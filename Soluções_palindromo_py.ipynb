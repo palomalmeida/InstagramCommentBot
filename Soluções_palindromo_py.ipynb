{
  "nbformat": 4,
  "nbformat_minor": 0,
  "metadata": {
    "colab": {
      "name": "Soluções_palindromo.py",
      "provenance": [],
      "authorship_tag": "ABX9TyN35FIfTSJYWZ1/uGQyWij7",
      "include_colab_link": true
    },
    "kernelspec": {
      "name": "python3",
      "display_name": "Python 3"
    },
    "language_info": {
      "name": "python"
    }
  },
  "cells": [
    {
      "cell_type": "markdown",
      "metadata": {
        "id": "view-in-github",
        "colab_type": "text"
      },
      "source": [
        "<a href=\"https://colab.research.google.com/github/palomatxr/InstagramCommentBot/blob/main/Solu%C3%A7%C3%B5es_palindromo_py.ipynb\" target=\"_parent\"><img src=\"https://colab.research.google.com/assets/colab-badge.svg\" alt=\"Open In Colab\"/></a>"
      ]
    },
    {
      "cell_type": "code",
      "metadata": {
        "colab": {
          "base_uri": "https://localhost:8080/"
        },
        "id": "wiD9eDkr3WxS",
        "outputId": "6e01ba36-82dc-4ed0-8c87-ceabec7fe20a"
      },
      "source": [
        "s = str(input('Escreva uma palavra :'))\n",
        "\n",
        "\n",
        "\n",
        "\n",
        "if s == s [:: -1] :\n",
        "  print(s[:: -1]) \n",
        "else :\n",
        "  print(\"Não"
      ],
      "execution_count": null,
      "outputs": [
        {
          "output_type": "stream",
          "text": [
            "Escreva uma palavra :luz\n",
            "Não é um palindromo .\n"
          ],
          "name": "stdout"
        }
      ]
    },
    {
      "cell_type": "code",
      "metadata": {
        "colab": {
          "base_uri": "https://localhost:8080/",
          "height": 198
        },
        "id": "AJVJ0ufF99sv",
        "outputId": "9597b3f5-3e08-4fd8-9165-f68b2d1ffcdd"
      },
      "source": [
        "def palindromo (palavra):\n",
        "  for i in range(len(palavra) // 2 ) :\n",
        "    if palavra[i] !=  palavra[len(palavra)-1-i] : \n",
        "      return True \n",
        "\n",
        "  return False \n",
        "\n",
        "\n",
        "palavra = str(input(\"Ecreva uma palavra :\")).lower \n",
        "\n",
        "\n",
        "palindromo(palavra = carro)"
      ],
      "execution_count": null,
      "outputs": [
        {
          "output_type": "error",
          "ename": "NameError",
          "evalue": "ignored",
          "traceback": [
            "\u001b[0;31m---------------------------------------------------------------------------\u001b[0m",
            "\u001b[0;31mNameError\u001b[0m                                 Traceback (most recent call last)",
            "\u001b[0;32m<ipython-input-17-3675894b46bf>\u001b[0m in \u001b[0;36m<module>\u001b[0;34m()\u001b[0m\n\u001b[1;32m      6\u001b[0m   \u001b[0;32mreturn\u001b[0m \u001b[0;32mFalse\u001b[0m\u001b[0;34m\u001b[0m\u001b[0;34m\u001b[0m\u001b[0m\n\u001b[1;32m      7\u001b[0m \u001b[0;34m\u001b[0m\u001b[0m\n\u001b[0;32m----> 8\u001b[0;31m \u001b[0mpalindromo\u001b[0m\u001b[0;34m(\u001b[0m\u001b[0mpalavra\u001b[0m \u001b[0;34m=\u001b[0m \u001b[0mcarro\u001b[0m\u001b[0;34m)\u001b[0m\u001b[0;34m\u001b[0m\u001b[0;34m\u001b[0m\u001b[0m\n\u001b[0m",
            "\u001b[0;31mNameError\u001b[0m: name 'carro' is not defined"
          ]
        }
      ]
    },
    {
      "cell_type": "markdown",
      "metadata": {
        "id": "AYl64gqNCHUU"
      },
      "source": [
        "Erro \n"
      ]
    }
  ]
}